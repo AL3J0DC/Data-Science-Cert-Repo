{
  "nbformat": 4,
  "nbformat_minor": 0,
  "metadata": {
    "colab": {
      "provenance": [],
      "authorship_tag": "ABX9TyPTvtbPpYNZXvQadpKuuiY7",
      "include_colab_link": true
    },
    "kernelspec": {
      "name": "python3",
      "display_name": "Python 3"
    },
    "language_info": {
      "name": "python"
    }
  },
  "cells": [
    {
      "cell_type": "markdown",
      "metadata": {
        "id": "view-in-github",
        "colab_type": "text"
      },
      "source": [
        "<a href=\"https://colab.research.google.com/github/AL3J0DC/Data-Science-Cert-Repo/blob/master/Labs/Practice_StockData_Scrapping.ipynb\" target=\"_parent\"><img src=\"https://colab.research.google.com/assets/colab-badge.svg\" alt=\"Open In Colab\"/></a>"
      ]
    },
    {
      "cell_type": "code",
      "execution_count": null,
      "metadata": {
        "id": "UTiHsWYa4Bpy"
      },
      "outputs": [],
      "source": [
        "# 1. Install & import necessary packages\n",
        "!pip install bs4 #BeautifulSoup\n",
        "from bs4 import BeautifulSoup\n",
        "!pip install html5lib #parser to parse html\n",
        "!pip install lxml #processes html\n",
        "import requests #gets data from website\n",
        "import pandas as pd #analyze data from website"
      ]
    },
    {
      "cell_type": "code",
      "source": [
        "# 2. Request website data\n",
        "URL = \"https://cf-courses-data.s3.us.cloud-object-storage.appdomain.cloud/IBMDeveloperSkillsNetwork-PY0220EN-SkillsNetwork/labs/project/netflix_data_webpage.html\"\n",
        "Data = requests.get(URL).text"
      ],
      "metadata": {
        "id": "mieSzRL85-iY"
      },
      "execution_count": 3,
      "outputs": []
    },
    {
      "cell_type": "code",
      "source": [
        "# 3. Parse the data\n",
        "Soup = BeautifulSoup(Data, 'html5lib') #parses data with html5lib and creates an object with bs4"
      ],
      "metadata": {
        "id": "rQ62Rhay8DCo"
      },
      "execution_count": 4,
      "outputs": []
    },
    {
      "cell_type": "code",
      "source": [
        "# 4. Identify Tags from data\n",
        "Stock_Data = pd.DataFrame(columns=[\"Date\",\"Open\",\"High\",\"Low\",\"Close\",\"Adj. Close\",\"Volume\"]) #columns reflected from website table"
      ],
      "metadata": {
        "id": "Gc7re6wm8mVu"
      },
      "execution_count": 5,
      "outputs": []
    },
    {
      "cell_type": "code",
      "source": [
        "# 5. Use bs4 to extract data\n",
        "for row in Soup.find(\"tbody\").find_all(\"tr\"): #iterates over each row'tr' within'tbody' html doc(Soup) which contains data\n",
        "    col = row.find_all(\"td\") #within each row, it finds all the table data<td> elements & stores them in the col variable as a list\n",
        "    date = col[0].text #extracts the text content of the 1st <td> element (col[0]) within the current row which contains the data.\n",
        "    open = col[1].text #Extracts the text content of the second <td> element (col[1]) within the current row, presumably representing the opening price.\n",
        "    high = col[2].text\n",
        "    low = col[3].text\n",
        "    close = col[4].text\n",
        "    adj_close = col[5].text\n",
        "    volume = col[6].text\n",
        "    Stock_Data = Stock_Data.append({\"Date\":date,\"Open\":open,\"High\":high,\"Low\":low,\"Close\":close,\"Adj. Close\":adj_close,\"Volume\":volume},ignore_index=True)"
      ],
      "metadata": {
        "id": "EAo-Ryi5-pdY"
      },
      "execution_count": null,
      "outputs": []
    },
    {
      "cell_type": "code",
      "source": [
        "Soup.find('title')"
      ],
      "metadata": {
        "colab": {
          "base_uri": "https://localhost:8080/"
        },
        "id": "28vT8lC9AyB_",
        "outputId": "6511b9bd-b1cf-442d-fc20-aa25f22d1ac6"
      },
      "execution_count": 7,
      "outputs": [
        {
          "output_type": "execute_result",
          "data": {
            "text/plain": [
              "<title>Netflix, Inc. (NFLX) Stock Historical Prices &amp; Data - Yahoo Finance</title>"
            ]
          },
          "metadata": {},
          "execution_count": 7
        }
      ]
    },
    {
      "cell_type": "code",
      "source": [
        "Stock_Data.iloc[-1] #will show the last entry on the table, in this case it would be the beginnig date of the range 9/1/15"
      ],
      "metadata": {
        "colab": {
          "base_uri": "https://localhost:8080/"
        },
        "id": "dt-8rJJczG8j",
        "outputId": "bd505ef7-3393-4356-a350-7fafcc1b5bdd"
      },
      "execution_count": 19,
      "outputs": [
        {
          "output_type": "execute_result",
          "data": {
            "text/plain": [
              "Date          Sep 01, 2015\n",
              "Open                109.35\n",
              "High                111.24\n",
              "Low                  93.55\n",
              "Close               103.26\n",
              "Adj. Close          103.26\n",
              "Volume         497,401,200\n",
              "Name: 139, dtype: object"
            ]
          },
          "metadata": {},
          "execution_count": 19
        }
      ]
    },
    {
      "cell_type": "code",
      "source": [],
      "metadata": {
        "id": "KqmRYT8XiYes"
      },
      "execution_count": null,
      "outputs": []
    }
  ]
}