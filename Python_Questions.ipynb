{
  "nbformat": 4,
  "nbformat_minor": 0,
  "metadata": {
    "colab": {
      "provenance": [],
      "authorship_tag": "ABX9TyMYMxSXqGVDIy9RHJiQFWoF",
      "include_colab_link": true
    },
    "kernelspec": {
      "name": "python3",
      "display_name": "Python 3"
    },
    "language_info": {
      "name": "python"
    }
  },
  "cells": [
    {
      "cell_type": "markdown",
      "metadata": {
        "id": "view-in-github",
        "colab_type": "text"
      },
      "source": [
        "<a href=\"https://colab.research.google.com/github/AL3J0DC/Data-Science-Cert-Repo/blob/master/Python_Questions.ipynb\" target=\"_parent\"><img src=\"https://colab.research.google.com/assets/colab-badge.svg\" alt=\"Open In Colab\"/></a>"
      ]
    },
    {
      "cell_type": "markdown",
      "source": [
        "What is the intended purpose of 'f' prior to the \"at position\" string in line 3?"
      ],
      "metadata": {
        "id": "adqmUKuaexK8"
      }
    },
    {
      "cell_type": "code",
      "source": [
        "fruits = [\"apple\", \"banana\", \"orange\"]\n",
        "for index, fruit in enumerate(fruits):\n",
        "    print(f\"At position {index}, I found a {fruit}\")"
      ],
      "metadata": {
        "id": "S_Of9GhJ0Kha"
      },
      "execution_count": null,
      "outputs": []
    }
  ]
}